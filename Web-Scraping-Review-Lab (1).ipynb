{
 "cells": [
  {
   "cell_type": "markdown",
   "metadata": {},
   "source": [
    "<p style=\"text-align:center\">\n",
    "    <a href=\"https://skills.network/?utm_medium=Exinfluencer&utm_source=Exinfluencer&utm_content=000026UJ&utm_term=10006555&utm_id=NA-SkillsNetwork-Channel-SkillsNetworkCoursesIBMDA0321ENSkillsNetwork21426264-2022-01-01\" target=\"_blank\">\n",
    "    <img src=\"https://cf-courses-data.s3.us.cloud-object-storage.appdomain.cloud/assets/logos/SN_web_lightmode.png\" width=\"200\" alt=\"Skills Network Logo\"  />\n",
    "    </a>\n",
    "</p>\n"
   ]
  },
  {
   "cell_type": "markdown",
   "metadata": {},
   "source": [
    "# **Web Scraping Lab**\n"
   ]
  },
  {
   "cell_type": "markdown",
   "metadata": {},
   "source": [
    "Estimated time needed: **30** minutes\n"
   ]
  },
  {
   "cell_type": "markdown",
   "metadata": {},
   "source": [
    "## Objectives\n"
   ]
  },
  {
   "cell_type": "markdown",
   "metadata": {},
   "source": [
    "After completing this lab you will be able to:\n"
   ]
  },
  {
   "cell_type": "markdown",
   "metadata": {},
   "source": [
    "*   Download a webpage using requests module\n",
    "*   Scrape all links from a web page\n",
    "*   Scrape all image urls from a web page\n",
    "*   Scrape data from html tables\n"
   ]
  },
  {
   "cell_type": "markdown",
   "metadata": {},
   "source": [
    "## Scrape [www.ibm.com](http://www.ibm.com/?utm_medium=Exinfluencer&utm_source=Exinfluencer&utm_content=000026UJ&utm_term=10006555&utm_id=NA-SkillsNetwork-Channel-SkillsNetworkCoursesIBMDA0321ENSkillsNetwork21426264-2022-01-01)\n"
   ]
  },
  {
   "cell_type": "markdown",
   "metadata": {},
   "source": [
    "Import the required modules and functions\n"
   ]
  },
  {
   "cell_type": "code",
   "execution_count": 1,
   "metadata": {},
   "outputs": [],
   "source": [
    "from bs4 import BeautifulSoup # this module helps in web scrapping.\n",
    "import requests  # this module helps us to download a web page"
   ]
  },
  {
   "cell_type": "markdown",
   "metadata": {},
   "source": [
    "Download the contents of the web page\n"
   ]
  },
  {
   "cell_type": "code",
   "execution_count": 2,
   "metadata": {},
   "outputs": [],
   "source": [
    "url = \"http://www.ibm.com\""
   ]
  },
  {
   "cell_type": "code",
   "execution_count": 3,
   "metadata": {},
   "outputs": [],
   "source": [
    "# get the contents of the webpage in text format and store in a variable called data\n",
    "data  = requests.get(url).text "
   ]
  },
  {
   "cell_type": "markdown",
   "metadata": {},
   "source": [
    "Create a soup object using the class BeautifulSoup\n"
   ]
  },
  {
   "cell_type": "code",
   "execution_count": 4,
   "metadata": {},
   "outputs": [],
   "source": [
    "soup = BeautifulSoup(data,\"html5lib\")  # create a soup object using the variable 'data'"
   ]
  },
  {
   "cell_type": "markdown",
   "metadata": {},
   "source": [
    "Scrape all links\n"
   ]
  },
  {
   "cell_type": "code",
   "execution_count": 5,
   "metadata": {},
   "outputs": [
    {
     "name": "stdout",
     "output_type": "stream",
     "text": [
      "https://www.ibm.com/au/en\n",
      "https://www.ibm.com/sitemap/au/en\n",
      "https://www.ibm.com/events/event/pages/ibm/okl7d4mb/1581037797007001pjad.html\n",
      "https://www.ibm.com/au-en/security?schedulerform=\n",
      "https://www.ibm.com/au-en/analytics/data-fabric?lnk=auhpv18f3\n",
      "https://www.ibm.com/au-en/about/secure-your-business?lnk=auhpv18l1\n",
      "https://www.ibm.com/au-en/cloud/aiops?lnk=auhpv18f4\n",
      "https://www.ibm.com/au-en/cloud/campaign/cloud-simplicity?lnk=hpv18f5\n",
      "https://www.ibm.com/consulting/au-en/?lnk=auhpv18f5\n",
      "https://www.ibm.com/au-en/it-infrastructure/power/os/ibm-i?lnk=hpv18f1\n",
      "https://www.ibm.com/case-studies/data-action/\n",
      "https://www.ibm.com/it-infrastructure/us-en/resources/hybrid-multicloud-infrastructure-strategy?lnk=auhpv18f3\n",
      "https://www.ibm.com/case-studies/woodside-energy/\n",
      "https://event.on24.com/wcc/r/3636880/B2F5CC16FC9FA5C9CA8F6DFBF7C839FB\n",
      "https://www.ibm.com/au-en/events\n",
      "https://ibm.app.swapcard.com/event/innovation-connect-ibm\n",
      "https://www.ibm.com/case-studies/mawsons-huts-foundation/\n",
      "/au-en/products/offers-and-discounts?lnk=hpv18t5\n",
      "https://www.ibm.com/au-en/qradar?lnk=hpv18t1&psrc=NONE&lnk2=trial_Qradar&pexp=DEF\n",
      "https://www.ibm.com/au-en/products/cloud-pak-for-data?lnk=STW_AU_HPT_T2_TL&psrc=NONE&pexp=DEF&lnk2=trial_THP\n",
      "/au-en/products/maximo?lnk=auhpv18t3%3DSTW_AU_HP_P3_TL&psrc=NONE&pexp=DEF&lnk2=trial_Maximo\n",
      "https://www.ibm.com/au-en/it-infrastructure/storage/flash?lnk=STW_AU_PHP_T4_TL&psrc=NONE&pexp=DEF&lnk2=learn_FlashStorage%3Flnk%3Dauhpv18t1\n",
      "https://www.ibm.com/products/unified-endpoint-management\n",
      "https://www.ibm.com/account/reg/au-en/signup?formid=urx-45706\n",
      "https://developer.ibm.com/depmodels/cloud/?lnk=hpv18pd1\n",
      "https://developer.ibm.com/technologies/artificial-intelligence/?lnk=hpv18pd2\n",
      "https://developer.ibm.com/tutorials/?lnk=hpv18pd3\n",
      "https://developer.ibm.com/?lnk=hpv18pd4\n",
      "https://www.ibm.com/docs/en?lnk=hpv18pd5\n",
      "https://www.redbooks.ibm.com/?lnk=hpv18pd6\n",
      "https://developer.ibm.com/patterns/?lnk=hpv18pd7\n",
      "https://developer.ibm.com/articles/?lnk=hpv18pd8\n",
      "https://www.ibm.com/support/home/?lnk=hpv18pd9\n",
      "https://www.ibm.com/training/?lnk=hpv18pd10\n",
      "https://www.ibm.com/au-en/storage\n",
      "https://www.ibm.com/au-en/cloud/hybrid?lnk=hpv18pb2\n",
      "https://www.ibm.com/au-en/watson?lnk=hpv18pb3\n",
      "https://www.ibm.com/au-en/garage?lnk=hpv18pb4\n",
      "https://www.ibm.com/au-en/security/zero-trust?lnk=hpv18pb5\n",
      "https://www.ibm.com/thought-leadership/institute-business-value/?lnk=hpv18pb7\n",
      "/au-en/analytics?lnk=hpv18pb8\n",
      "/au-en/security?lnk=hpv18pb9\n",
      "https://www.ibm.com/consulting/au-en/?lnk=hpv18pb1\n",
      "https://www.ibm.com/au-en/services/business?lnk=hpv18pb10\n",
      "/au-en/financing?lnk=hpv18pb11\n",
      "/au-en/cloud/hybrid?lnk=hpv18pt1\n",
      "https://www.ibm.com/au-en/cloud/automation?lnk=hpv18pt2\n",
      "https://www.ibm.com/au-en/cloud/satellite?lnk=hpv18pt3\n",
      "/au-en/cloud/redhat?lnk=hpv18pt4\n",
      "/au-en/watson?lnk=hpv18pt5\n",
      "https://www.ibm.com/quantum-computing/?lnk=hpv18pt6\n",
      "https://www.ibm.com/au-en/security/zero-trust?lnk=hpv18pt7\n",
      "/au-en/cloud/learn/kubernetes?lnk=hpv18pt8\n",
      "/au-en/products/spss-statistics?lnk=hpv18pt9\n",
      "/au-en/blockchain?lnk=hpv18pt10\n",
      "https://www.ibm.com/employment/?lnk=hpv18pt11\n",
      "https://www.ibm.com/case-studies/dubber-corporation/\n",
      "/case-studies/search?lnk=hpv18cs2\n",
      "#\n"
     ]
    }
   ],
   "source": [
    "for link in soup.find_all('a'):  # in html anchor/link is represented by the tag <a>\n",
    "    print(link.get('href'))"
   ]
  },
  {
   "cell_type": "markdown",
   "metadata": {},
   "source": [
    "Scrape  all images\n"
   ]
  },
  {
   "cell_type": "code",
   "execution_count": 6,
   "metadata": {},
   "outputs": [
    {
     "name": "stdout",
     "output_type": "stream",
     "text": [
      "//1.cms.s81c.com/sites/default/files/2022-04-25/2022031-ls-data-driven-mobile-720x360.png\n",
      "//1.cms.s81c.com/sites/default/files/2022-05-06/20220314-ls-zero-trust-security-26493-mobile-720x360_1.jpg\n",
      "//1.cms.s81c.com/sites/default/files/2022-05-09/AIOPS.png\n",
      "//1.cms.s81c.com/sites/default/files/2022-05-09/related-link-modernize-open-hybrid-800x450.s%281%29.png\n",
      "//1.cms.s81c.com/sites/default/files/2022-02-15/consulting-five-levers-444x254_6.jpg\n",
      "//1.cms.s81c.com/sites/default/files/2022-05-06/IBM%20i_0.png\n",
      "//1.cms.s81c.com/sites/default/files/2022-04-25/img7_1366w2.jpg\n",
      "//1.cms.s81c.com/sites/default/files/2022-04-04/Original-20220316-26479-Forrester-Modernize-444x320_6.jpg\n",
      "//1.cms.s81c.com/sites/default/files/2022-05-06/Woodside_img10_1920w_1.jpg\n",
      "//1.cms.s81c.com/sites/default/files/2022-03-24/87e9cd64-da24-4ddb-af518f68dc1c20ab.jpg\n",
      "//1.cms.s81c.com/sites/default/files/2022-03-02/ibm%20events.jpg\n",
      "//1.cms.s81c.com/sites/default/files/2022-03-02/IBm%20Innovation%20Connect_0.jpg\n",
      "//1.cms.s81c.com/sites/default/files/2021-10-29/QRadar-on-Cloud-21400-700x420.png\n",
      "//1.cms.s81c.com/sites/default/files/2021-09-28/Cloud-Pak-for-Data-22396-700x420.png\n",
      "//1.cms.s81c.com/sites/default/files/2021-05-26/Maximo-20423-700x420%5B2%5D.png\n",
      "//1.cms.s81c.com/sites/default/files/2021-09-30/Flash-System-5000-trial-444x266%281%29_0.png\n",
      "//1.cms.s81c.com/sites/default/files/2021-11-01/10072019-t-bt-MaaS360-watson-23210-700x420.png\n",
      "//1.cms.s81c.com/sites/default/files/2021-11-22/cloud-pak-for-automation-trial-444x254-v2_0.png\n"
     ]
    }
   ],
   "source": [
    "for link in soup.find_all('img'):# in html image is represented by the tag <img>\n",
    "    print(link.get('src'))"
   ]
  },
  {
   "cell_type": "markdown",
   "metadata": {},
   "source": [
    "## Scrape data from html tables\n"
   ]
  },
  {
   "cell_type": "code",
   "execution_count": null,
   "metadata": {},
   "outputs": [],
   "source": [
    "#The below url contains a html table with data about colors and color codes."
   ]
  },
  {
   "cell_type": "code",
   "execution_count": 7,
   "metadata": {},
   "outputs": [],
   "source": [
    "url = \"https://cf-courses-data.s3.us.cloud-object-storage.appdomain.cloud/IBM-DA0321EN-SkillsNetwork/labs/datasets/HTMLColorCodes.html\""
   ]
  },
  {
   "cell_type": "markdown",
   "metadata": {},
   "source": [
    "Before proceeding to scrape a web site, you need to examine the contents, and the way data is organized on the website. Open the above url in your browser and check how many rows and columns are there in the color table.\n"
   ]
  },
  {
   "cell_type": "code",
   "execution_count": 8,
   "metadata": {},
   "outputs": [],
   "source": [
    "# get the contents of the webpage in text format and store in a variable called data\n",
    "data  = requests.get(url).text"
   ]
  },
  {
   "cell_type": "code",
   "execution_count": 9,
   "metadata": {},
   "outputs": [],
   "source": [
    "soup = BeautifulSoup(data,\"html5lib\")"
   ]
  },
  {
   "cell_type": "code",
   "execution_count": 10,
   "metadata": {},
   "outputs": [],
   "source": [
    "#find a html table in the web page\n",
    "table = soup.find('table') # in html table is represented by the tag <table>"
   ]
  },
  {
   "cell_type": "code",
   "execution_count": 11,
   "metadata": {},
   "outputs": [
    {
     "name": "stdout",
     "output_type": "stream",
     "text": [
      "Color Name--->Hex Code#RRGGBB\n",
      "lightsalmon--->#FFA07A\n",
      "salmon--->#FA8072\n",
      "darksalmon--->#E9967A\n",
      "lightcoral--->#F08080\n",
      "coral--->#FF7F50\n",
      "tomato--->#FF6347\n",
      "orangered--->#FF4500\n",
      "gold--->#FFD700\n",
      "orange--->#FFA500\n",
      "darkorange--->#FF8C00\n",
      "lightyellow--->#FFFFE0\n",
      "lemonchiffon--->#FFFACD\n",
      "papayawhip--->#FFEFD5\n",
      "moccasin--->#FFE4B5\n",
      "peachpuff--->#FFDAB9\n",
      "palegoldenrod--->#EEE8AA\n",
      "khaki--->#F0E68C\n",
      "darkkhaki--->#BDB76B\n",
      "yellow--->#FFFF00\n",
      "lawngreen--->#7CFC00\n",
      "chartreuse--->#7FFF00\n",
      "limegreen--->#32CD32\n",
      "lime--->#00FF00\n",
      "forestgreen--->#228B22\n",
      "green--->#008000\n",
      "powderblue--->#B0E0E6\n",
      "lightblue--->#ADD8E6\n",
      "lightskyblue--->#87CEFA\n",
      "skyblue--->#87CEEB\n",
      "deepskyblue--->#00BFFF\n",
      "lightsteelblue--->#B0C4DE\n",
      "dodgerblue--->#1E90FF\n"
     ]
    }
   ],
   "source": [
    "#Get all rows from the table\n",
    "for row in table.find_all('tr'): # in html table row is represented by the tag <tr>\n",
    "    # Get all columns in each row.\n",
    "    cols = row.find_all('td') # in html a column is represented by the tag <td>\n",
    "    color_name = cols[2].getText() # store the value in column 3 as color_name\n",
    "    color_code = cols[3].getText() # store the value in column 4 as color_code\n",
    "    print(\"{}--->{}\".format(color_name,color_code))"
   ]
  },
  {
   "cell_type": "markdown",
   "metadata": {},
   "source": [
    "## Authors\n"
   ]
  },
  {
   "cell_type": "markdown",
   "metadata": {},
   "source": [
    "Ramesh Sannareddy\n"
   ]
  },
  {
   "cell_type": "markdown",
   "metadata": {},
   "source": [
    "### Other Contributors\n"
   ]
  },
  {
   "cell_type": "markdown",
   "metadata": {},
   "source": [
    "Rav Ahuja\n"
   ]
  },
  {
   "cell_type": "markdown",
   "metadata": {},
   "source": [
    "## Change Log\n"
   ]
  },
  {
   "cell_type": "markdown",
   "metadata": {},
   "source": [
    "| Date (YYYY-MM-DD) | Version | Changed By        | Change Description                 |\n",
    "| ----------------- | ------- | ----------------- | ---------------------------------- |\n",
    "| 2020-10-17        | 0.1     | Ramesh Sannareddy | Created initial version of the lab |\n"
   ]
  },
  {
   "cell_type": "markdown",
   "metadata": {},
   "source": [
    "Copyright © 2020 IBM Corporation. This notebook and its source code are released under the terms of the [MIT License](https://cognitiveclass.ai/mit-license/?utm_medium=Exinfluencer&utm_source=Exinfluencer&utm_content=000026UJ&utm_term=10006555&utm_id=NA-SkillsNetwork-Channel-SkillsNetworkCoursesIBMDA0321ENSkillsNetwork21426264-2022-01-01).\n"
   ]
  }
 ],
 "metadata": {
  "kernelspec": {
   "display_name": "Python 3 (ipykernel)",
   "language": "python",
   "name": "python3"
  },
  "language_info": {
   "codemirror_mode": {
    "name": "ipython",
    "version": 3
   },
   "file_extension": ".py",
   "mimetype": "text/x-python",
   "name": "python",
   "nbconvert_exporter": "python",
   "pygments_lexer": "ipython3",
   "version": "3.9.7"
  }
 },
 "nbformat": 4,
 "nbformat_minor": 4
}
